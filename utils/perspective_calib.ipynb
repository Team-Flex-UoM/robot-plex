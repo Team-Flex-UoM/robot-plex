{
 "cells": [
  {
   "cell_type": "code",
   "execution_count": 1,
   "metadata": {},
   "outputs": [],
   "source": [
    "# imports\n",
    "import numpy as np\n",
    "import cv2 as cv\n",
    "import matplotlib.pyplot as plt\n",
    "\n",
    "def imshowBGR(img,ax=plt):\n",
    "    ax.imshow(cv.cvtColor(img,cv.COLOR_BGR2RGB))"
   ]
  },
  {
   "cell_type": "code",
   "execution_count": null,
   "metadata": {},
   "outputs": [],
   "source": [
    "# q2\n",
    "\n",
    "def mouse_click(e,x,y,f,p):   \n",
    "    if e==cv.EVENT_LBUTTONDOWN:        \n",
    "        g_points_des.append((x,y))\n",
    "\n",
    "def get_points(img):\n",
    "    global g_points_des\n",
    "    g_points_des=[]\n",
    "    cv.namedWindow('img')\n",
    "    cv.setMouseCallback('img',mouse_click)\n",
    "    cv.imshow('img',img)\n",
    "    cv.waitKey(0)\n",
    "    cv.destroyAllWindows()\n",
    "    return g_points_des[:]\n",
    "\n",
    "def display(img_dst,img_src,img_out,i):\n",
    "    cv.namedWindow('img')\n",
    "    cv.imshow('img',img_out)\n",
    "    key=cv.waitKey(0)\n",
    "    cv.destroyAllWindows()\n",
    "    imshowBGR(img_dst,ax[i,0])\n",
    "    ax[i,0].set_title('Architectural Image')\n",
    "    imshowBGR(img_src,ax[i,1])\n",
    "    ax[i,1].set_title('Flag')\n",
    "    imshowBGR(img_out,ax[i,2])\n",
    "    ax[i,2].set_title('Superimposed')\n",
    "\n",
    "fig,ax=plt.subplots(3,3,figsize=(15,12))\n",
    "\n",
    "\n",
    "\n",
    "img_src=cv.imread(r'imgs\\pers_src.png'.format(i))\n",
    "assert img_src is not None\n",
    "\n",
    "img_dst=cv.imread(r'imgs\\pers_dst.png'.format(i))\n",
    "assert img_dst is not None\n",
    "\n",
    "points_src=np.array(get_points(img_src)) \n",
    "points_des=np.array(get_points(img_dst)) \n",
    "\n",
    "print(points_src)\n",
    "print(points_des)      \n",
    "\n",
    "h,st=cv.findHomography(points_src,points_des)\n",
    "img_warp=cv.warpPerspective(img_src,h,img_dst.shape[1::-1])\n",
    "\n",
    "# display(img_dst,img_src,img_warp,0)\n",
    "cv.namedWindow('img')\n",
    "cv.imshow('img',img_warp)\n",
    "key=cv.waitKey(0)\n",
    "cv.destroyAllWindows()"
   ]
  }
 ],
 "metadata": {
  "interpreter": {
   "hash": "c4cf16c6c102502d9b3fc3f99ef98f92182d1e423233ac8ec1dca04b3a65f7df"
  },
  "kernelspec": {
   "display_name": "Python 3.10.0 64-bit (system)",
   "language": "python",
   "name": "python3"
  },
  "language_info": {
   "codemirror_mode": {
    "name": "ipython",
    "version": 3
   },
   "file_extension": ".py",
   "mimetype": "text/x-python",
   "name": "python",
   "nbconvert_exporter": "python",
   "pygments_lexer": "ipython3",
   "version": "3.10.0"
  },
  "orig_nbformat": 4
 },
 "nbformat": 4,
 "nbformat_minor": 2
}
